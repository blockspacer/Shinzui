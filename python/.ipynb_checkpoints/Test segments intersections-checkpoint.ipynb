{
 "cells": [
  {
   "cell_type": "code",
   "execution_count": 74,
   "metadata": {
    "collapsed": true
   },
   "outputs": [],
   "source": [
    "import numpy as np\n",
    "\n",
    "def intersect(s1, s2, p1, p2):\n",
    "    s1 = np.asarray(s1)\n",
    "    s2 = np.asarray(s2)\n",
    "    p1 = np.asarray(p1)\n",
    "    p2 = np.asarray(p2)\n",
    "    \n",
    "    # Normal\n",
    "    vec = s1 - s2\n",
    "    normal = np.asarray([vec[1], -vec[0]])\n",
    "    \n",
    "    v1 = p1 - s1\n",
    "    v2 = p2 - s2\n",
    "    \n",
    "    proj1 = v1.dot(normal)\n",
    "    proj2 = v2.dot(normal)\n",
    "    \n",
    "    if any(np.isclose([proj1, proj2], [0, 0])):\n",
    "        return True, np.max(np.abs([proj1, proj2]))\n",
    "    \n",
    "    return np.sign(proj1) != np.sign(proj2)\n",
    "\n",
    "def intersect2(s0_s, s0_e, s1_s, s1_e):\n",
    "    d = (s0_e[1] - s0_s[1]) * (s1_e[0] - s1_s[0]) - (s0_e[0] - s0_s[0]) * (s1_e[1] - s0_s[1]);\n",
    "    if np.allclose(d, 0):\n",
    "        return False\n",
    "\n",
    "    s = (s0_e[0] - s0_s[0]) * (s1_s[1] - s0_s[1]) - (s0_e[1] - s0_s[1]) * (s1_s[0] - s0_s[0]);\n",
    "    sd = s / d\n",
    "    if sd < 0 or sd > 1:\n",
    "        return False\n",
    "    \n",
    "    t = (s1_e[0] - s1_s[0]) * (s1_s[1] - s0_s[1]) - (s1_e[1] - s1_s[1]) * (s1_s[0] - s0_s[0]);\n",
    "    st = t / d\n",
    "    return st >= 0 and st <= 1"
   ]
  },
  {
   "cell_type": "code",
   "execution_count": 75,
   "metadata": {
    "collapsed": false
   },
   "outputs": [
    {
     "data": {
      "text/plain": [
       "(True, True)"
      ]
     },
     "execution_count": 75,
     "metadata": {},
     "output_type": "execute_result"
    }
   ],
   "source": [
    "args = (1, 1), (2, 2), (1.5, 1.5), (2.5, 2.5)\n",
    "intersect(*args), intersect2(*args)"
   ]
  },
  {
   "cell_type": "code",
   "execution_count": 73,
   "metadata": {
    "collapsed": false
   },
   "outputs": [
    {
     "data": {
      "text/plain": [
       "(True, False)"
      ]
     },
     "execution_count": 73,
     "metadata": {},
     "output_type": "execute_result"
    }
   ],
   "source": [
    "args = (1, 1), (2, 2), (1, 1), (2, 2)\n",
    "intersect(*args), intersect2(*args)"
   ]
  },
  {
   "cell_type": "code",
   "execution_count": 68,
   "metadata": {
    "collapsed": false
   },
   "outputs": [
    {
     "data": {
      "text/plain": [
       "(True, True)"
      ]
     },
     "execution_count": 68,
     "metadata": {},
     "output_type": "execute_result"
    }
   ],
   "source": [
    "args = (1, 1), (2, 2), (1, 1.5), (2, 1.5)\n",
    "intersect(*args), intersect2(*args)"
   ]
  },
  {
   "cell_type": "code",
   "execution_count": 69,
   "metadata": {
    "collapsed": false
   },
   "outputs": [
    {
     "data": {
      "text/plain": [
       "(False, False)"
      ]
     },
     "execution_count": 69,
     "metadata": {},
     "output_type": "execute_result"
    }
   ],
   "source": [
    "args = (1, 1), (2, 2), (2.6, 2.5), (1, 0.5)\n",
    "intersect(*args), intersect2(*args)"
   ]
  },
  {
   "cell_type": "code",
   "execution_count": 70,
   "metadata": {
    "collapsed": false
   },
   "outputs": [
    {
     "data": {
      "text/plain": [
       "(True, False)"
      ]
     },
     "execution_count": 70,
     "metadata": {},
     "output_type": "execute_result"
    }
   ],
   "source": [
    "args = (1, 1), (2, 2), (1.5, 2.5), (2, 1)\n",
    "intersect(*args), intersect2(*args)"
   ]
  },
  {
   "cell_type": "code",
   "execution_count": null,
   "metadata": {
    "collapsed": true
   },
   "outputs": [],
   "source": []
  }
 ],
 "metadata": {
  "kernelspec": {
   "display_name": "Python 3",
   "language": "python",
   "name": "python3"
  },
  "language_info": {
   "codemirror_mode": {
    "name": "ipython",
    "version": 3
   },
   "file_extension": ".py",
   "mimetype": "text/x-python",
   "name": "python",
   "nbconvert_exporter": "python",
   "pygments_lexer": "ipython3",
   "version": "3.6.0"
  }
 },
 "nbformat": 4,
 "nbformat_minor": 2
}
