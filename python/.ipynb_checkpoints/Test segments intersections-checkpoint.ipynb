{
 "cells": [
  {
   "cell_type": "code",
   "execution_count": 33,
   "metadata": {
    "collapsed": true
   },
   "outputs": [],
   "source": [
    "import numpy as np\n",
    "\n",
    "def intersect(s1, s2, p1, p2):\n",
    "    s1 = np.asarray(s1)\n",
    "    s2 = np.asarray(s2)\n",
    "    p1 = np.asarray(p1)\n",
    "    p2 = np.asarray(p2)\n",
    "    \n",
    "    # Normal\n",
    "    vec = s1 - s2\n",
    "    normal = np.asarray([vec[1], -vec[0]])\n",
    "    print(normal)\n",
    "    \n",
    "    v1 = p1 - s1\n",
    "    v2 = p2 - s2\n",
    "    \n",
    "    print(v1)\n",
    "    print(v2)\n",
    "    \n",
    "    proj1 = v1.dot(normal)\n",
    "    proj2 = v2.dot(normal)\n",
    "    \n",
    "    print(proj1)\n",
    "    print(proj2)\n",
    "    \n",
    "    if any(np.isclose([proj1, proj2], [0, 0])):\n",
    "        return True, np.max(np.abs([proj1, proj2]))\n",
    "    \n",
    "    return np.sign(proj1) != np.sign(proj2), np.max(np.abs([proj1, proj2]))\n",
    "\n",
    "def intersect2(s0_s, s0_e, s1_s, s1_e):\n",
    "    d = (s0_e[1] - s0_s[1]) * (s1_e[0] - s1_s[0]) - (s0_e[0] - s0_s[0]) * (s1_e[1] - s0_s[1]);\n",
    "    if np.allclose(d, 0):\n",
    "        return False\n",
    "\n",
    "    s = (s0_e[0] - s0_s[0]) * (s1_s[1] - s0_s[1]) - (s0_e[1] - s0_s[1]) * (s1_s[0] - s0_s[0]);\n",
    "    sd = s / d\n",
    "    if sd < 0 or sd > 1:\n",
    "        return False\n",
    "    \n",
    "    t = (s1_e[0] - s1_s[0]) * (s1_s[1] - s0_s[1]) - (s1_e[1] - s1_s[1]) * (s1_s[0] - s0_s[0]);\n",
    "    st = t / d\n",
    "    return st >= 0 and st <= 1\n",
    "\n",
    "def intersect3(s1, s2, p1, p2):\n",
    "    s1x, s1y = s1\n",
    "    s2x, s2y = s2\n",
    "    p1x, p1y = p1\n",
    "    p2x, p2y = p2\n",
    "    \n",
    "    a1 = 1 / 2.0 * (-s2x * s1y + p1x * s1y + s1x * s2y - p1x * s2y - s1x * p1y + s2x * p1y)\n",
    "    a2 = 1 / 2.0 * (-s2x * s1y + p2x * s1y + s1x * s2y - p2x * s2y - s1x * p2y + s2x * p2y)\n",
    "    return np.sign(a1) != np.sign(a2)\n",
    "\n",
    "# Return true if line segments AB and CD intersect\n",
    "def intersect4(A,B,C,D):\n",
    "    def ccw(A,B,C):\n",
    "        return (C.y-A.y) * (B.x-A.x) > (B.y-A.y) * (C.x-A.x)\n",
    "\n",
    "    return ccw(A,C,D) != ccw(B,C,D) and ccw(A,B,C) != ccw(A,B,D)"
   ]
  },
  {
   "cell_type": "code",
   "execution_count": 34,
   "metadata": {
    "collapsed": false
   },
   "outputs": [
    {
     "name": "stdout",
     "output_type": "stream",
     "text": [
      "[-1  1]\n",
      "[ 0.5  0.5]\n",
      "[ 0.5  0.5]\n",
      "0.0\n",
      "0.0\n"
     ]
    },
    {
     "data": {
      "text/plain": [
       "((True, 0.0), True, False)"
      ]
     },
     "execution_count": 34,
     "metadata": {},
     "output_type": "execute_result"
    }
   ],
   "source": [
    "args = (1, 1), (2, 2), (1.5, 1.5), (2.5, 2.5)\n",
    "intersect(*args), intersect2(*args), intersect3(*args)"
   ]
  },
  {
   "cell_type": "code",
   "execution_count": 35,
   "metadata": {
    "collapsed": false
   },
   "outputs": [
    {
     "name": "stdout",
     "output_type": "stream",
     "text": [
      "[-1  1]\n",
      "[0 0]\n",
      "[0 0]\n",
      "0\n",
      "0\n"
     ]
    },
    {
     "data": {
      "text/plain": [
       "((True, 0), False, False)"
      ]
     },
     "execution_count": 35,
     "metadata": {},
     "output_type": "execute_result"
    }
   ],
   "source": [
    "args = (1, 1), (2, 2), (1, 1), (2, 2)\n",
    "intersect(*args), intersect2(*args), intersect3(*args)"
   ]
  },
  {
   "cell_type": "code",
   "execution_count": 36,
   "metadata": {
    "collapsed": false
   },
   "outputs": [
    {
     "name": "stdout",
     "output_type": "stream",
     "text": [
      "[-1  1]\n",
      "[ 0.   0.5]\n",
      "[ 0.  -0.5]\n",
      "0.5\n",
      "-0.5\n"
     ]
    },
    {
     "data": {
      "text/plain": [
       "((True, 0.5), True, True)"
      ]
     },
     "execution_count": 36,
     "metadata": {},
     "output_type": "execute_result"
    }
   ],
   "source": [
    "args = (1, 1), (2, 2), (1, 1.5), (2, 1.5)\n",
    "intersect(*args), intersect2(*args), intersect3(*args)"
   ]
  },
  {
   "cell_type": "code",
   "execution_count": 37,
   "metadata": {
    "collapsed": false
   },
   "outputs": [
    {
     "name": "stdout",
     "output_type": "stream",
     "text": [
      "[-1  1]\n",
      "[ 1.6  1.5]\n",
      "[-1.  -1.5]\n",
      "-0.1\n",
      "-0.5\n"
     ]
    },
    {
     "data": {
      "text/plain": [
       "((False, 0.5), False, False)"
      ]
     },
     "execution_count": 37,
     "metadata": {},
     "output_type": "execute_result"
    }
   ],
   "source": [
    "args = (1, 1), (2, 2), (2.6, 2.5), (1, 0.5)\n",
    "intersect(*args), intersect2(*args), intersect3(*args)"
   ]
  },
  {
   "cell_type": "code",
   "execution_count": 38,
   "metadata": {
    "collapsed": false
   },
   "outputs": [
    {
     "name": "stdout",
     "output_type": "stream",
     "text": [
      "[-1  1]\n",
      "[ 0.5  1.5]\n",
      "[ 0 -1]\n",
      "1.0\n",
      "-1\n"
     ]
    },
    {
     "data": {
      "text/plain": [
       "((True, 1.0), False, True)"
      ]
     },
     "execution_count": 38,
     "metadata": {},
     "output_type": "execute_result"
    }
   ],
   "source": [
    "args = (1, 1), (2, 2), (1.5, 2.5), (2, 1)\n",
    "intersect(*args), intersect2(*args), intersect3(*args)"
   ]
  },
  {
   "cell_type": "code",
   "execution_count": 39,
   "metadata": {
    "collapsed": false
   },
   "outputs": [
    {
     "name": "stdout",
     "output_type": "stream",
     "text": [
      "[ 0.64 -0.01]\n",
      "[ 13.96 -12.3 ]\n",
      "[-36.03 -11.66]\n",
      "9.0574\n",
      "-22.9426\n"
     ]
    },
    {
     "data": {
      "text/plain": [
       "((True, 22.942600000000024), False, True)"
      ]
     },
     "execution_count": 39,
     "metadata": {},
     "output_type": "execute_result"
    }
   ],
   "source": [
    "args = (-12.96, 13.3), (-12.97, 12.66), (1, 1), (-49, 1)\n",
    "intersect(*args), intersect2(*args), intersect3(*args)"
   ]
  },
  {
   "cell_type": "code",
   "execution_count": null,
   "metadata": {
    "collapsed": true
   },
   "outputs": [],
   "source": []
  }
 ],
 "metadata": {
  "kernelspec": {
   "display_name": "Python 3",
   "language": "python",
   "name": "python3"
  },
  "language_info": {
   "codemirror_mode": {
    "name": "ipython",
    "version": 3
   },
   "file_extension": ".py",
   "mimetype": "text/x-python",
   "name": "python",
   "nbconvert_exporter": "python",
   "pygments_lexer": "ipython3",
   "version": "3.6.0"
  }
 },
 "nbformat": 4,
 "nbformat_minor": 2
}
